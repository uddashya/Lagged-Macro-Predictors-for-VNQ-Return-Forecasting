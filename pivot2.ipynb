{
 "cells": [
  {
   "cell_type": "code",
   "execution_count": 100,
   "id": "aadaa095",
   "metadata": {},
   "outputs": [],
   "source": [
    "import pandas as pd\n",
    "import numpy as np\n",
    "import matplotlib.pyplot as plt\n",
    "import yfinance as yf\n",
    "from pandas_datareader import data as web\n",
    "import datetime as dt\n",
    "from statsmodels.tools import add_constant\n",
    "from statsmodels.regression.linear_model import OLS\n",
    "from statsmodels.tsa.stattools import adfuller\n",
    "from statsmodels.tsa.stattools import grangercausalitytests\n",
    "from scipy.stats import linregress\n",
    "from sklearn.linear_model import RidgeCV, LassoCV\n",
    "from sklearn.preprocessing import StandardScaler\n",
    "from sklearn.metrics import mean_squared_error\n",
    "from sklearn.ensemble import RandomForestRegressor\n",
    "\n",
    "API_KEY = 'b238c80ba46a0179b0a0d0a90cf0c7fa'  # Replace with your FRED API key\n"
   ]
  },
  {
   "cell_type": "code",
   "execution_count": 101,
   "id": "201a8530",
   "metadata": {},
   "outputs": [
    {
     "name": "stderr",
     "output_type": "stream",
     "text": [
      "/var/folders/wr/mslv0h8d73n9kkgc30xk05lm0000gn/T/ipykernel_7676/3650948518.py:23: FutureWarning: Series.fillna with 'method' is deprecated and will raise in a future version. Use obj.ffill() or obj.bfill() instead.\n",
      "  GDP_YoY.fillna(method='ffill', inplace=True)\n",
      "/var/folders/wr/mslv0h8d73n9kkgc30xk05lm0000gn/T/ipykernel_7676/3650948518.py:37: FutureWarning: YF.download() has changed argument auto_adjust default to True\n",
      "  dj        = clean_series(yf.download('^DJI', start=start,end  = pd.Timestamp.today())['Close']\n",
      "[*********************100%***********************]  1 of 1 completed\n",
      "/var/folders/wr/mslv0h8d73n9kkgc30xk05lm0000gn/T/ipykernel_7676/3650948518.py:41: FutureWarning: YF.download() has changed argument auto_adjust default to True\n",
      "  wti= clean_series(yf.download('WTI', start=start, end=pd.Timestamp.today())['Close']\n",
      "[*********************100%***********************]  1 of 1 completed\n",
      "/var/folders/wr/mslv0h8d73n9kkgc30xk05lm0000gn/T/ipykernel_7676/3650948518.py:47: FutureWarning: YF.download() has changed argument auto_adjust default to True\n",
      "  VIX = clean_series(yf.download('^VIX', start=start, end=pd.Timestamp.today())['Close']\n",
      "[*********************100%***********************]  1 of 1 completed\n",
      "[*********************100%***********************]  1 of 1 completed\n",
      "/var/folders/wr/mslv0h8d73n9kkgc30xk05lm0000gn/T/ipykernel_7676/3650948518.py:71: FutureWarning: YF.download() has changed argument auto_adjust default to True\n",
      "  sp   = clean_series(yf.download('^GSPC', start=start,end  = pd.Timestamp.today())['Close'].resample('QE').last()).reindex(idx)\n",
      "[*********************100%***********************]  1 of 1 completed\n",
      "[*********************100%***********************]  1 of 1 completed"
     ]
    },
    {
     "name": "stdout",
     "output_type": "stream",
     "text": [
      "Factor window: 2008-06-30 00:00:00 to 2025-06-30 00:00:00\n",
      "                 R       CPI   DEF    TERM      DivY    AFFORD   MORTG  \\\n",
      "DATE                                                                     \n",
      "2008-06-30  0.0261  0.071564  1.42  0.0219  0.000485  0.263355  0.0585   \n",
      "2008-09-30  0.0200  0.073898  1.44  0.0213  0.000523  0.282375  0.0645   \n",
      "2008-12-31  0.0181  0.076567  1.84  0.0272  0.000592  0.261684  0.0609   \n",
      "2009-03-31  0.0016  0.069650  3.37  0.0222  0.000796  0.230565  0.0510   \n",
      "2009-06-30  0.0018  0.068297  3.06  0.0250  0.000703  0.212077  0.0485   \n",
      "\n",
      "             GDP_YoY  dUNRATE     M2YoY       dM2      dR   DJ_MOM3  DGS10  \\\n",
      "DATE                                                                         \n",
      "2008-06-30 -0.004268    0.001  0.189489  0.024866 -0.0163 -0.085447   3.45   \n",
      "2008-09-30  0.005954    0.005  0.189256  0.009635 -0.0061 -0.183196   3.99   \n",
      "2008-12-31 -0.005253    0.005  0.190975  0.016593 -0.0019 -0.181997   3.85   \n",
      "2009-03-31 -0.021890    0.012  0.226824  0.042209 -0.0165 -0.284313   2.25   \n",
      "2009-06-30 -0.011349    0.014  0.238895  0.022145  0.0002 -0.329611   2.71   \n",
      "\n",
      "            TB3MS        WTI        VIX    vnq_ma3  \n",
      "DATE                                                \n",
      "2008-06-30   1.26  24.277323  26.120164  30.419360  \n",
      "2008-09-30   1.86  36.329386  20.672969  28.873041  \n",
      "2008-12-31   1.13  29.387498  25.073281  29.793101  \n",
      "2009-03-31   0.03  11.952086  58.595937  17.853178  \n",
      "2009-06-30   0.21   7.833174  45.000000  12.389279  \n"
     ]
    },
    {
     "name": "stderr",
     "output_type": "stream",
     "text": [
      "\n"
     ]
    }
   ],
   "source": [
    "def clean_series(s):\n",
    "    \"\"\"Return 1-D Series, TZ-naive, month-end ('QE').\"\"\"\n",
    "    if isinstance(s, pd.DataFrame) and s.shape[1] == 1:\n",
    "        s = s.iloc[:, 0]\n",
    "    s = s.dropna().copy()\n",
    "    s.index = pd.to_datetime(s.index).tz_localize(None)\n",
    "    return s.resample('QE').last()\n",
    "\n",
    "def pmt(rate, nper, pv):\n",
    "    \"\"\"Level payment on amortizing loan.\"\"\"\n",
    "    return rate * pv / (1 - (1 + rate) ** -nper)\n",
    "\n",
    "# ----------------------------------------------------------------------\n",
    "# 1. Macro-factor fetcher  (start date adjustable)\n",
    "# ----------------------------------------------------------------------\n",
    "def fetch_macro_data(start='2005-01-01'):\n",
    "    \n",
    "    # Fed funds (anchor)\n",
    "    R   = clean_series(web.DataReader('FEDFUNDS', 'fred', start)['FEDFUNDS']) / 100\n",
    "    idx = R.index\n",
    "    # ── 2) Paper factors ────────────────────────────────────────────────\n",
    "    GDP_YoY   = clean_series(web.DataReader('GDPC1','fred','2005-01-01')['GDPC1'].pct_change(1))\n",
    "    GDP_YoY.fillna(method='ffill', inplace=True)\n",
    " \n",
    "    UN       = clean_series(web.DataReader('UNRATE','fred',start)['UNRATE'])/100\n",
    "    UNRATE   = UN.reindex(idx)\n",
    "    dUNRATE  = UNRATE.diff()\n",
    "\n",
    "    M2       = clean_series(web.DataReader('M2SL','fred',start)['M2SL']\n",
    "                  .resample('QE').last()\n",
    "                  .reindex(idx))\n",
    "    M2YoY    = M2.pct_change(12, fill_method=None)\n",
    "    dM2      = M2.pct_change(1,  fill_method=None)\n",
    "\n",
    "    dR       = R.diff()\n",
    "\n",
    "    dj        = clean_series(yf.download('^DJI', start=start,end  = pd.Timestamp.today())['Close']\n",
    "                   .resample('QE').last()\n",
    "                   .reindex(idx))\n",
    "\n",
    "    wti= clean_series(yf.download('WTI', start=start, end=pd.Timestamp.today())['Close']\n",
    "                   .resample('QE').mean()\n",
    "                   .reindex(idx))\n",
    "    \n",
    "    DJ_MOM3   = dj.pct_change(3, fill_method=None)\n",
    "\n",
    "    VIX = clean_series(yf.download('^VIX', start=start, end=pd.Timestamp.today())['Close']\n",
    "                   .resample('QE').mean()\n",
    "                   .reindex(idx))\n",
    "    \n",
    "    # Quarterly (3-period) moving average of VNQ (resampled to quarter-end for alignment)\n",
    "    vnq_ma3 = yf.download('VNQ', start=start, end=pd.Timestamp.today(), auto_adjust=True)['Close'].rolling(window=3).mean()\n",
    "    vnq_ma3 = clean_series(vnq_ma3).reindex(idx)\n",
    "\n",
    "    # ── 3) Core factors ────────────────────────────────────────────────\n",
    "    # Core CPI YoY\n",
    "    CPI_lvl = clean_series(web.DataReader('CPILFESL', 'fred', start)['CPILFESL']).reindex(idx)\n",
    "    CPI     = CPI_lvl.pct_change(12, fill_method=None); CPI.name = 'CPI'\n",
    "\n",
    "    # Default premium (Baa – Aaa)\n",
    "    BAA = clean_series(web.DataReader('BAA10Y', 'fred', start)['BAA10Y']).reindex(idx)\n",
    "    AAA = clean_series(web.DataReader('AAA10Y', 'fred', start)['AAA10Y']).reindex(idx)\n",
    "    DEF = (BAA - AAA); DEF.name = 'DEF'\n",
    "\n",
    "    # 10y – 3m term premium\n",
    "    DGS10 = clean_series(web.DataReader('DGS10', 'fred', start)['DGS10']).reindex(idx)\n",
    "    TB3MS = clean_series(web.DataReader('TB3MS', 'fred', start)['TB3MS']).reindex(idx)\n",
    "    TERM  = (DGS10 - TB3MS) / 100; TERM.name = 'TERM'\n",
    "\n",
    "    # Dividend yield (S&P 500 price vs SPY dividends)\n",
    "    sp   = clean_series(yf.download('^GSPC', start=start,end  = pd.Timestamp.today())['Close'].resample('QE').last()).reindex(idx)\n",
    "    divs = clean_series(yf.Ticker('SPY').dividends.resample('QE').sum()).reindex(idx)\n",
    "    if divs.isna().all():                                              # safety fallback\n",
    "        divs = pd.Series(0.015, index=idx)\n",
    "    DivY = (divs / sp); DivY.name = 'DivY'\n",
    "\n",
    "    # Housing affordability components\n",
    "    # ── 2.1  True housing-payment affordability ───────────────────────────────\n",
    "    HPI   = clean_series(web.DataReader('MSPUS','fred',start)['MSPUS']).reindex(idx).ffill()\n",
    "    INC   = clean_series(web.DataReader('MEHOINUSA646N','fred',start)['MEHOINUSA646N']).reindex(idx).ffill()\n",
    "    # ── 2.2  Mortgage rate (30-yr fixed)\n",
    "    # Note: FRED's MORTGAGE30US is not seasonally adjusted,\n",
    "    #       so we use the last observation of each month.\n",
    "    #       This is a common practice in macroeconomics.\n",
    "    #       The data is in percent, so we divide by 100.\n",
    "    MORTG = clean_series(web.DataReader('MORTGAGE30US','fred',start)['MORTGAGE30US']).reindex(idx).ffill() / 100\n",
    "    MORTG.name = 'MORTG'\n",
    "\n",
    "    loan_amt        = HPI * 0.80                       # 80 % LTV\n",
    "    monthly_payment = pmt(MORTG / 12, 360, loan_amt)   # 30-yr amort\n",
    "    monthly_income  = INC / 12\n",
    "    AFFORD = (monthly_payment / monthly_income).rename('AFFORD')\n",
    "\n",
    "    # Assemble factors & one-period shift to avoid look-ahead\n",
    "    df = pd.DataFrame({'R':R, 'CPI':CPI, 'DEF':DEF, 'TERM':TERM,\n",
    "                       'DivY':DivY, 'AFFORD':AFFORD, 'MORTG':MORTG,'GDP_YoY':GDP_YoY,'dUNRATE':dUNRATE,'M2YoY':M2YoY,'dM2':dM2,'dR':dR,'DJ_MOM3':DJ_MOM3,'DGS10':DGS10,'TB3MS':TB3MS,'WTI':wti,'VIX':VIX,'vnq_ma3':vnq_ma3}, index=idx)\n",
    "    factors = df.shift(1).dropna(subset=['R','CPI','DEF','TERM'])      # keep rows w/ core data\n",
    "\n",
    "    # VNQ prices for back-test\n",
    "    vnq_prices = clean_series(yf.download('VNQ', start=start, end=pd.Timestamp.today(), auto_adjust=True)['Close'])\n",
    "\n",
    "    return factors, vnq_prices\n",
    "\n",
    "factors, vnq_prices = fetch_macro_data('2005-01-01')\n",
    "print(\"Factor window:\", factors.first_valid_index(), \"to\", factors.last_valid_index())\n",
    "print(factors.head())"
   ]
  },
  {
   "cell_type": "code",
   "execution_count": 102,
   "id": "b44dbd9e",
   "metadata": {},
   "outputs": [
    {
     "name": "stdout",
     "output_type": "stream",
     "text": [
      "{'AMT': 446.681, 'PLD': 56.643, 'WELL': 49.196, 'EQIX': 141.235, 'DLR': 79.552, 'SPG': 773.472, 'PSA': 97.458, 'O': 69.956, 'CCI': None}\n"
     ]
    }
   ],
   "source": [
    "holdings = ('AMT', 'PLD', 'WELL', 'EQIX', 'DLR', 'SPG', 'PSA', 'O', 'CCI')\n",
    "debt_to_equity = {}\n",
    "for stock in holdings:\n",
    "    yf_ticker = yf.Ticker(stock)\n",
    "    info= yf_ticker.get_info()\n",
    "    debt_to_equity[stock] = info.get('debtToEquity', None)\n",
    "print(debt_to_equity)"
   ]
  },
  {
   "cell_type": "code",
   "execution_count": 103,
   "id": "c37e99be",
   "metadata": {},
   "outputs": [
    {
     "name": "stdout",
     "output_type": "stream",
     "text": [
      "Top 50%: SPG     773.472\n",
      "AMT     446.681\n",
      "EQIX    141.235\n",
      "PSA      97.458\n",
      "dtype: float64\n",
      "Bottom 50%: DLR     79.552\n",
      "O       69.956\n",
      "PLD     56.643\n",
      "WELL    49.196\n",
      "CCI        NaN\n",
      "dtype: float64\n"
     ]
    }
   ],
   "source": [
    "debt_to_equity_series = pd.Series(debt_to_equity)\n",
    "debt_to_equity_sorted = debt_to_equity_series.sort_values(ascending=False)\n",
    "high_indebted = debt_to_equity_sorted[:len(debt_to_equity_sorted)//2]\n",
    "low_indebted = debt_to_equity_sorted[len(debt_to_equity_sorted)//2:]\n",
    "print(\"Top 50%:\", high_indebted)\n",
    "print(\"Bottom 50%:\", low_indebted)"
   ]
  },
  {
   "cell_type": "code",
   "execution_count": 104,
   "id": "19781779",
   "metadata": {},
   "outputs": [
    {
     "name": "stderr",
     "output_type": "stream",
     "text": [
      "/var/folders/wr/mslv0h8d73n9kkgc30xk05lm0000gn/T/ipykernel_7676/173980472.py:3: FutureWarning: YF.download() has changed argument auto_adjust default to True\n",
      "  high_prices = yf.download(list(high_indebted.keys()), start=start_date, end=dt.datetime.today())['Close'].resample('ME').last()\n",
      "[*********************100%***********************]  4 of 4 completed\n",
      "/var/folders/wr/mslv0h8d73n9kkgc30xk05lm0000gn/T/ipykernel_7676/173980472.py:4: FutureWarning: YF.download() has changed argument auto_adjust default to True\n",
      "  low_prices  = yf.download(list(low_indebted.keys()), start=start_date, end=dt.datetime.today())['Close'].resample('ME').last()\n",
      "[*********************100%***********************]  5 of 5 completed"
     ]
    },
    {
     "name": "stdout",
     "output_type": "stream",
     "text": [
      "2005-01-31 00:00:00 through 2025-07-31 00:00:00\n",
      "2005-01-31 00:00:00 through 2025-07-31 00:00:00\n"
     ]
    },
    {
     "name": "stderr",
     "output_type": "stream",
     "text": [
      "\n"
     ]
    }
   ],
   "source": [
    "# Download adjusted close prices\n",
    "start_date = '2005-01-01'\n",
    "high_prices = yf.download(list(high_indebted.keys()), start=start_date, end=dt.datetime.today())['Close'].resample('ME').last()\n",
    "low_prices  = yf.download(list(low_indebted.keys()), start=start_date, end=dt.datetime.today())['Close'].resample('ME').last()\n",
    "print(high_prices.first_valid_index(), \"through\", high_prices.last_valid_index())\n",
    "print(low_prices.first_valid_index(), \"through\", low_prices.last_valid_index()) \n",
    "# Calculate monthly returns\n",
    "high_returns = high_prices.pct_change().dropna()\n",
    "low_returns  = low_prices.pct_change().dropna()\n",
    "\n",
    "# Equally weighted portfolio returns\n",
    "high_portfolio = high_returns.mean(axis=1)\n",
    "low_portfolio  = low_returns.mean(axis=1)\n",
    "\n",
    "# Real Estate Premium (REP)\n",
    "REP = (high_portfolio - low_portfolio).rename('REP')"
   ]
  },
  {
   "cell_type": "code",
   "execution_count": 105,
   "id": "0df5f7fc",
   "metadata": {},
   "outputs": [
    {
     "name": "stdout",
     "output_type": "stream",
     "text": [
      "2005-02-28 00:00:00 through 2025-07-31 00:00:00\n",
      "Date\n",
      "2005-02-28    0.014719\n",
      "2005-03-31    0.020281\n",
      "2005-04-30   -0.059992\n",
      "2005-05-31   -0.003718\n",
      "2005-06-30    0.010280\n",
      "Freq: ME, Name: REP, dtype: float64\n"
     ]
    }
   ],
   "source": [
    "print(REP.first_valid_index(), \"through\", REP.last_valid_index())\n",
    "print(REP.head())"
   ]
  },
  {
   "cell_type": "code",
   "execution_count": 106,
   "id": "4fc20a5d",
   "metadata": {},
   "outputs": [
    {
     "data": {
      "text/html": [
       "<div>\n",
       "<style scoped>\n",
       "    .dataframe tbody tr th:only-of-type {\n",
       "        vertical-align: middle;\n",
       "    }\n",
       "\n",
       "    .dataframe tbody tr th {\n",
       "        vertical-align: top;\n",
       "    }\n",
       "\n",
       "    .dataframe thead th {\n",
       "        text-align: right;\n",
       "    }\n",
       "</style>\n",
       "<table border=\"1\" class=\"dataframe\">\n",
       "  <thead>\n",
       "    <tr style=\"text-align: right;\">\n",
       "      <th></th>\n",
       "      <th>R</th>\n",
       "      <th>CPI</th>\n",
       "      <th>DEF</th>\n",
       "      <th>TERM</th>\n",
       "      <th>DivY</th>\n",
       "      <th>AFFORD</th>\n",
       "      <th>MORTG</th>\n",
       "      <th>GDP_YoY</th>\n",
       "      <th>dUNRATE</th>\n",
       "      <th>M2YoY</th>\n",
       "      <th>dM2</th>\n",
       "      <th>dR</th>\n",
       "      <th>DJ_MOM3</th>\n",
       "      <th>DGS10</th>\n",
       "      <th>TB3MS</th>\n",
       "      <th>WTI</th>\n",
       "      <th>VIX</th>\n",
       "      <th>vnq_ma3</th>\n",
       "      <th>REP</th>\n",
       "    </tr>\n",
       "    <tr>\n",
       "      <th>DATE</th>\n",
       "      <th></th>\n",
       "      <th></th>\n",
       "      <th></th>\n",
       "      <th></th>\n",
       "      <th></th>\n",
       "      <th></th>\n",
       "      <th></th>\n",
       "      <th></th>\n",
       "      <th></th>\n",
       "      <th></th>\n",
       "      <th></th>\n",
       "      <th></th>\n",
       "      <th></th>\n",
       "      <th></th>\n",
       "      <th></th>\n",
       "      <th></th>\n",
       "      <th></th>\n",
       "      <th></th>\n",
       "      <th></th>\n",
       "    </tr>\n",
       "  </thead>\n",
       "  <tbody>\n",
       "    <tr>\n",
       "      <th>2008-06-30</th>\n",
       "      <td>0.0261</td>\n",
       "      <td>0.071564</td>\n",
       "      <td>1.42</td>\n",
       "      <td>0.0219</td>\n",
       "      <td>0.000485</td>\n",
       "      <td>0.263355</td>\n",
       "      <td>0.0585</td>\n",
       "      <td>-0.004268</td>\n",
       "      <td>0.001</td>\n",
       "      <td>0.189489</td>\n",
       "      <td>0.024866</td>\n",
       "      <td>-0.0163</td>\n",
       "      <td>-0.085447</td>\n",
       "      <td>3.45</td>\n",
       "      <td>1.26</td>\n",
       "      <td>24.277323</td>\n",
       "      <td>26.120164</td>\n",
       "      <td>30.419360</td>\n",
       "      <td>0.002110</td>\n",
       "    </tr>\n",
       "    <tr>\n",
       "      <th>2008-09-30</th>\n",
       "      <td>0.0200</td>\n",
       "      <td>0.073898</td>\n",
       "      <td>1.44</td>\n",
       "      <td>0.0213</td>\n",
       "      <td>0.000523</td>\n",
       "      <td>0.282375</td>\n",
       "      <td>0.0645</td>\n",
       "      <td>0.005954</td>\n",
       "      <td>0.005</td>\n",
       "      <td>0.189256</td>\n",
       "      <td>0.009635</td>\n",
       "      <td>-0.0061</td>\n",
       "      <td>-0.183196</td>\n",
       "      <td>3.99</td>\n",
       "      <td>1.86</td>\n",
       "      <td>36.329386</td>\n",
       "      <td>20.672969</td>\n",
       "      <td>28.873041</td>\n",
       "      <td>0.003281</td>\n",
       "    </tr>\n",
       "    <tr>\n",
       "      <th>2008-12-31</th>\n",
       "      <td>0.0181</td>\n",
       "      <td>0.076567</td>\n",
       "      <td>1.84</td>\n",
       "      <td>0.0272</td>\n",
       "      <td>0.000592</td>\n",
       "      <td>0.261684</td>\n",
       "      <td>0.0609</td>\n",
       "      <td>-0.005253</td>\n",
       "      <td>0.005</td>\n",
       "      <td>0.190975</td>\n",
       "      <td>0.016593</td>\n",
       "      <td>-0.0019</td>\n",
       "      <td>-0.181997</td>\n",
       "      <td>3.85</td>\n",
       "      <td>1.13</td>\n",
       "      <td>29.387498</td>\n",
       "      <td>25.073281</td>\n",
       "      <td>29.793101</td>\n",
       "      <td>-0.087318</td>\n",
       "    </tr>\n",
       "    <tr>\n",
       "      <th>2009-03-31</th>\n",
       "      <td>0.0016</td>\n",
       "      <td>0.069650</td>\n",
       "      <td>3.37</td>\n",
       "      <td>0.0222</td>\n",
       "      <td>0.000796</td>\n",
       "      <td>0.230565</td>\n",
       "      <td>0.0510</td>\n",
       "      <td>-0.021890</td>\n",
       "      <td>0.012</td>\n",
       "      <td>0.226824</td>\n",
       "      <td>0.042209</td>\n",
       "      <td>-0.0165</td>\n",
       "      <td>-0.284313</td>\n",
       "      <td>2.25</td>\n",
       "      <td>0.03</td>\n",
       "      <td>11.952086</td>\n",
       "      <td>58.595937</td>\n",
       "      <td>17.853178</td>\n",
       "      <td>-0.037331</td>\n",
       "    </tr>\n",
       "    <tr>\n",
       "      <th>2009-06-30</th>\n",
       "      <td>0.0018</td>\n",
       "      <td>0.068297</td>\n",
       "      <td>3.06</td>\n",
       "      <td>0.0250</td>\n",
       "      <td>0.000703</td>\n",
       "      <td>0.212077</td>\n",
       "      <td>0.0485</td>\n",
       "      <td>-0.011349</td>\n",
       "      <td>0.014</td>\n",
       "      <td>0.238895</td>\n",
       "      <td>0.022145</td>\n",
       "      <td>0.0002</td>\n",
       "      <td>-0.329611</td>\n",
       "      <td>2.71</td>\n",
       "      <td>0.21</td>\n",
       "      <td>7.833174</td>\n",
       "      <td>45.000000</td>\n",
       "      <td>12.389279</td>\n",
       "      <td>-0.035675</td>\n",
       "    </tr>\n",
       "  </tbody>\n",
       "</table>\n",
       "</div>"
      ],
      "text/plain": [
       "                 R       CPI   DEF    TERM      DivY    AFFORD   MORTG  \\\n",
       "DATE                                                                     \n",
       "2008-06-30  0.0261  0.071564  1.42  0.0219  0.000485  0.263355  0.0585   \n",
       "2008-09-30  0.0200  0.073898  1.44  0.0213  0.000523  0.282375  0.0645   \n",
       "2008-12-31  0.0181  0.076567  1.84  0.0272  0.000592  0.261684  0.0609   \n",
       "2009-03-31  0.0016  0.069650  3.37  0.0222  0.000796  0.230565  0.0510   \n",
       "2009-06-30  0.0018  0.068297  3.06  0.0250  0.000703  0.212077  0.0485   \n",
       "\n",
       "             GDP_YoY  dUNRATE     M2YoY       dM2      dR   DJ_MOM3  DGS10  \\\n",
       "DATE                                                                         \n",
       "2008-06-30 -0.004268    0.001  0.189489  0.024866 -0.0163 -0.085447   3.45   \n",
       "2008-09-30  0.005954    0.005  0.189256  0.009635 -0.0061 -0.183196   3.99   \n",
       "2008-12-31 -0.005253    0.005  0.190975  0.016593 -0.0019 -0.181997   3.85   \n",
       "2009-03-31 -0.021890    0.012  0.226824  0.042209 -0.0165 -0.284313   2.25   \n",
       "2009-06-30 -0.011349    0.014  0.238895  0.022145  0.0002 -0.329611   2.71   \n",
       "\n",
       "            TB3MS        WTI        VIX    vnq_ma3       REP  \n",
       "DATE                                                          \n",
       "2008-06-30   1.26  24.277323  26.120164  30.419360  0.002110  \n",
       "2008-09-30   1.86  36.329386  20.672969  28.873041  0.003281  \n",
       "2008-12-31   1.13  29.387498  25.073281  29.793101 -0.087318  \n",
       "2009-03-31   0.03  11.952086  58.595937  17.853178 -0.037331  \n",
       "2009-06-30   0.21   7.833174  45.000000  12.389279 -0.035675  "
      ]
     },
     "execution_count": 106,
     "metadata": {},
     "output_type": "execute_result"
    }
   ],
   "source": [
    "factors['REP'] = REP\n",
    "factors.head()"
   ]
  },
  {
   "cell_type": "code",
   "execution_count": 107,
   "id": "b91bdcfc",
   "metadata": {},
   "outputs": [
    {
     "name": "stdout",
     "output_type": "stream",
     "text": [
      "R: R = 0.517\n",
      "CPI: R = 0.604\n",
      "DEF: R = -0.539\n",
      "TERM: R = -0.755\n",
      "DivY: R = -0.718\n",
      "AFFORD: R = 0.407\n",
      "MORTG: R = 0.062\n",
      "GDP_YoY: R = 0.190\n",
      "dUNRATE: R = -0.155\n",
      "M2YoY: R = 0.148\n",
      "dM2: R = -0.049\n",
      "dR: R = 0.292\n",
      "DJ_MOM3: R = 0.278\n",
      "DGS10: R = -0.043\n",
      "TB3MS: R = 0.548\n",
      "WTI: R = -0.660\n",
      "VIX: R = -0.359\n",
      "vnq_ma3: R = 0.967\n",
      "REP: R = 0.112\n"
     ]
    }
   ],
   "source": [
    "for fact in factors.columns:\n",
    "    # Align the two series to their common index and drop NaNs\n",
    "    aligned = pd.concat([factors[fact], vnq_prices], axis=1).dropna()\n",
    "    if len(aligned) > 0:\n",
    "        r = np.corrcoef(aligned.iloc[:,0], aligned.iloc[:,1])[0,1]\n",
    "        print(f\"{fact}: R = {r:.3f}\")\n",
    "    else:\n",
    "        print(f\"{fact}: Not enough data to compute correlation.\")"
   ]
  },
  {
   "cell_type": "code",
   "execution_count": 108,
   "id": "393c47c0",
   "metadata": {},
   "outputs": [
    {
     "name": "stdout",
     "output_type": "stream",
     "text": [
      "         ADF Stat       p-value  Lags Used  nobs   1% Crit   5% Crit  10% Crit\n",
      "Series                                                                        \n",
      "VNQ_ret -7.218964  2.136127e-10          1    80 -3.514869 -2.898409 -2.586439\n",
      "R        0.031817  9.610855e-01          8    60 -3.544369 -2.911073 -2.593190\n",
      "CPI     -0.374956  9.141970e-01         11    57 -3.550670 -2.913766 -2.594624\n",
      "DEF     -3.103314  2.630894e-02          0    68 -3.530399 -2.905087 -2.590001\n",
      "TERM    -0.276473  9.287710e-01          9    59 -3.546395 -2.911939 -2.593652\n",
      "DivY     0.041923  9.618648e-01         10    58 -3.548494 -2.912837 -2.594129\n",
      "AFFORD  -1.348231  6.068282e-01          0    68 -3.530399 -2.905087 -2.590001\n",
      "MORTG   -1.836891  3.623061e-01          1    67 -3.531955 -2.905755 -2.590357\n",
      "GDP_YoY -6.965926  8.915675e-10          1    67 -3.531955 -2.905755 -2.590357\n",
      "dUNRATE -8.839748  1.680983e-14          0    68 -3.530399 -2.905087 -2.590001\n",
      "M2YoY   -3.593075  5.894817e-03          4    64 -3.536928 -2.907887 -2.591493\n",
      "dM2     -5.069050  1.617336e-05          0    68 -3.530399 -2.905087 -2.590001\n",
      "dR      -3.205147  1.968866e-02          7    61 -3.542413 -2.910236 -2.592745\n",
      "DJ_MOM3 -4.113464  9.200658e-04          8    60 -3.544369 -2.911073 -2.593190\n",
      "REP     -6.745951  3.034869e-09          0    68 -3.530399 -2.905087 -2.590001\n"
     ]
    }
   ],
   "source": [
    "\n",
    "series_dict = {\n",
    "    'VNQ_ret': vnq_prices.pct_change().dropna(),\n",
    "    'R':       factors['R'],\n",
    "    'CPI':     factors['CPI'],\n",
    "    'DEF':     factors['DEF'],\n",
    "    'TERM':    factors['TERM'],\n",
    "    'DivY':    factors['DivY'],\n",
    "    'AFFORD':  factors['AFFORD'],\n",
    "    'MORTG':   factors['MORTG'],\n",
    "    'GDP_YoY': factors['GDP_YoY'],\n",
    "    'dUNRATE': factors['dUNRATE'],\n",
    "    'M2YoY':   factors['M2YoY'],\n",
    "    'dM2':     factors['dM2'],\n",
    "    'dR':      factors['dR'],\n",
    "    'DJ_MOM3': factors['DJ_MOM3'],\n",
    "    'REP':     factors['REP']\n",
    "}\n",
    "\n",
    "# 2) Run ADF on each\n",
    "results = []\n",
    "for name, series in series_dict.items():\n",
    "    # drop NaNs and run ADF with default lag selection (AIC)\n",
    "    clean = series.dropna()\n",
    "    adf_stat, pvalue, used_lag, nobs, crit_vals, icbest = adfuller(clean, autolag='AIC')\n",
    "    results.append({\n",
    "        'Series':      name,\n",
    "        'ADF Stat':    adf_stat,\n",
    "        'p-value':     pvalue,\n",
    "        'Lags Used':   used_lag,\n",
    "        'nobs':        nobs,\n",
    "        '1% Crit':     crit_vals['1%'],\n",
    "        '5% Crit':     crit_vals['5%'],\n",
    "        '10% Crit':    crit_vals['10%']\n",
    "    })\n",
    "\n",
    "# 3) Tabulate results\n",
    "adf_df = pd.DataFrame(results).set_index('Series')\n",
    "print(adf_df[['ADF Stat','p-value','Lags Used','nobs','1% Crit','5% Crit','10% Crit']])\n",
    "non_stationary = adf_df[adf_df['p-value'] > 0.05].index.tolist()"
   ]
  },
  {
   "cell_type": "code",
   "execution_count": 109,
   "id": "f464b892",
   "metadata": {},
   "outputs": [
    {
     "data": {
      "text/plain": [
       "['R', 'CPI', 'TERM', 'DivY', 'AFFORD', 'MORTG']"
      ]
     },
     "execution_count": 109,
     "metadata": {},
     "output_type": "execute_result"
    }
   ],
   "source": [
    "non_stationary"
   ]
  },
  {
   "cell_type": "code",
   "execution_count": 110,
   "id": "b21db469",
   "metadata": {},
   "outputs": [],
   "source": [
    "# Difference non-stationary factors\n",
    "diff_factors = factors.diff().dropna()\n",
    "\n",
    "# Replace original non-stationary columns\n",
    "for col in non_stationary:\n",
    "    if col in diff_factors:\n",
    "        factors[col] = diff_factors[col]"
   ]
  },
  {
   "cell_type": "code",
   "execution_count": 111,
   "id": "aebfa643",
   "metadata": {},
   "outputs": [
    {
     "name": "stdout",
     "output_type": "stream",
     "text": [
      "         ADF Stat       p-value  Lags Used  nobs   1% Crit   5% Crit  10% Crit\n",
      "Series                                                                        \n",
      "VNQ_ret -7.218964  2.136127e-10          1    80 -3.514869 -2.898409 -2.586439\n",
      "R       -3.580200  6.151039e-03          7    60 -3.544369 -2.911073 -2.593190\n",
      "CPI     -2.877601  4.801540e-02         11    56 -3.552928 -2.914731 -2.595137\n",
      "DEF     -3.103314  2.630894e-02          0    68 -3.530399 -2.905087 -2.590001\n",
      "TERM    -4.413617  2.807876e-04          8    59 -3.546395 -2.911939 -2.593652\n",
      "DivY    -4.998083  2.238780e-05          9    58 -3.548494 -2.912837 -2.594129\n",
      "AFFORD  -7.801962  7.452103e-12          0    67 -3.531955 -2.905755 -2.590357\n",
      "MORTG   -7.127803  3.582272e-10          0    67 -3.531955 -2.905755 -2.590357\n",
      "GDP_YoY -6.965926  8.915675e-10          1    67 -3.531955 -2.905755 -2.590357\n",
      "dUNRATE -8.839748  1.680983e-14          0    68 -3.530399 -2.905087 -2.590001\n",
      "M2YoY   -3.593075  5.894817e-03          4    64 -3.536928 -2.907887 -2.591493\n",
      "dM2     -5.069050  1.617336e-05          0    68 -3.530399 -2.905087 -2.590001\n",
      "dR      -3.205147  1.968866e-02          7    61 -3.542413 -2.910236 -2.592745\n",
      "DJ_MOM3 -4.113464  9.200658e-04          8    60 -3.544369 -2.911073 -2.593190\n",
      "REP     -6.745951  3.034869e-09          0    68 -3.530399 -2.905087 -2.590001\n"
     ]
    }
   ],
   "source": [
    "# Cell — ADF stationarity tests\n",
    "# 1) Prepare your series dictionary\n",
    "series_dict = {\n",
    "    'VNQ_ret': vnq_prices.pct_change().dropna(),\n",
    "    'R':       factors['R'],\n",
    "    'CPI':     factors['CPI'],\n",
    "    'DEF':     factors['DEF'],\n",
    "    'TERM':    factors['TERM'],\n",
    "    'DivY':    factors['DivY'],\n",
    "    'AFFORD':  factors['AFFORD'],\n",
    "    'MORTG':   factors['MORTG'],\n",
    "    'GDP_YoY': factors['GDP_YoY'],\n",
    "    'dUNRATE': factors['dUNRATE'],\n",
    "    'M2YoY':   factors['M2YoY'],\n",
    "    'dM2':     factors['dM2'],\n",
    "    'dR':      factors['dR'],\n",
    "    'DJ_MOM3': factors['DJ_MOM3'],\n",
    "    'REP':     factors['REP']\n",
    "}\n",
    "\n",
    "# 2) Run ADF on each\n",
    "results = []\n",
    "for name, series in series_dict.items():\n",
    "    # drop NaNs and run ADF with default lag selection (AIC)\n",
    "    clean = series.dropna()\n",
    "    adf_stat, pvalue, used_lag, nobs, crit_vals, icbest = adfuller(clean, autolag='AIC')\n",
    "    results.append({\n",
    "        'Series':      name,\n",
    "        'ADF Stat':    adf_stat,\n",
    "        'p-value':     pvalue,\n",
    "        'Lags Used':   used_lag,\n",
    "        'nobs':        nobs,\n",
    "        '1% Crit':     crit_vals['1%'],\n",
    "        '5% Crit':     crit_vals['5%'],\n",
    "        '10% Crit':    crit_vals['10%']\n",
    "    })\n",
    "\n",
    "# 3) Tabulate results\n",
    "adf_df = pd.DataFrame(results).set_index('Series')\n",
    "print(adf_df[['ADF Stat','p-value','Lags Used','nobs','1% Crit','5% Crit','10% Crit']])"
   ]
  },
  {
   "cell_type": "code",
   "execution_count": 112,
   "id": "9cfafce9",
   "metadata": {},
   "outputs": [
    {
     "name": "stdout",
     "output_type": "stream",
     "text": [
      "Factor rows : 69\n",
      "Return rows : 69\n",
      "                 R       CPI   DEF    TERM      DivY    AFFORD   MORTG  \\\n",
      "DATE                                                                     \n",
      "2008-06-30     NaN       NaN  1.42     NaN       NaN       NaN     NaN   \n",
      "2008-09-30 -0.0061  0.002334  1.44 -0.0006  0.000037  0.019020  0.0060   \n",
      "2008-12-31 -0.0019  0.002669  1.84  0.0059  0.000070 -0.020691 -0.0036   \n",
      "\n",
      "             GDP_YoY  dUNRATE     M2YoY       dM2      dR   DJ_MOM3  DGS10  \\\n",
      "DATE                                                                         \n",
      "2008-06-30 -0.004268    0.001  0.189489  0.024866 -0.0163 -0.085447   3.45   \n",
      "2008-09-30  0.005954    0.005  0.189256  0.009635 -0.0061 -0.183196   3.99   \n",
      "2008-12-31 -0.005253    0.005  0.190975  0.016593 -0.0019 -0.181997   3.85   \n",
      "\n",
      "            TB3MS        WTI        VIX    vnq_ma3       REP  \n",
      "DATE                                                          \n",
      "2008-06-30   1.26  24.277323  26.120164  30.419360  0.002110  \n",
      "2008-09-30   1.86  36.329386  20.672969  28.873041  0.003281  \n",
      "2008-12-31   1.13  29.387498  25.073281  29.793101 -0.087318  \n",
      "DATE\n",
      "2008-06-30   -0.051139\n",
      "2008-09-30    0.054325\n",
      "2008-12-31   -0.384196\n",
      "Freq: QE-DEC, Name: VNQ, dtype: float64\n"
     ]
    }
   ],
   "source": [
    "# returns aligned to factor index\n",
    "ret = vnq_prices.pct_change().dropna().reindex(factors.index)\n",
    "\n",
    "print(\"Factor rows :\", len(factors))\n",
    "print(\"Return rows :\", len(ret))\n",
    "print(factors.head(3))\n",
    "print(ret.head(3))"
   ]
  },
  {
   "cell_type": "markdown",
   "id": "d563eeae",
   "metadata": {},
   "source": [
    "## Granger causality - Quaterly"
   ]
  },
  {
   "cell_type": "code",
   "execution_count": 113,
   "id": "8c572d57",
   "metadata": {},
   "outputs": [
    {
     "name": "stderr",
     "output_type": "stream",
     "text": [
      "/Users/uddashyakumar/py312env/lib/python3.12/site-packages/statsmodels/tsa/stattools.py:1556: FutureWarning: verbose is deprecated since functions should not print results\n",
      "  warnings.warn(\n",
      "/Users/uddashyakumar/py312env/lib/python3.12/site-packages/statsmodels/tsa/stattools.py:1556: FutureWarning: verbose is deprecated since functions should not print results\n",
      "  warnings.warn(\n",
      "/Users/uddashyakumar/py312env/lib/python3.12/site-packages/statsmodels/tsa/stattools.py:1556: FutureWarning: verbose is deprecated since functions should not print results\n",
      "  warnings.warn(\n",
      "/Users/uddashyakumar/py312env/lib/python3.12/site-packages/statsmodels/tsa/stattools.py:1556: FutureWarning: verbose is deprecated since functions should not print results\n",
      "  warnings.warn(\n"
     ]
    },
    {
     "name": "stdout",
     "output_type": "stream",
     "text": [
      "⏳ Testing if VNQ_ret → VNQ_ret\n",
      "⏳ Testing if R → VNQ_ret\n",
      "⏳ Testing if CPI → VNQ_ret\n",
      "⏳ Testing if DEF → VNQ_ret\n",
      "⏳ Testing if TERM → VNQ_ret\n",
      "⏳ Testing if DivY → VNQ_ret\n",
      "⏳ Testing if AFFORD → VNQ_ret\n",
      "⏳ Testing if MORTG → VNQ_ret\n",
      "⏳ Testing if GDP_YoY → VNQ_ret\n",
      "⏳ Testing if dUNRATE → VNQ_ret\n",
      "⏳ Testing if M2YoY → VNQ_ret\n",
      "⏳ Testing if dM2 → VNQ_ret\n",
      "⏳ Testing if dR → VNQ_ret\n",
      "⏳ Testing if DJ_MOM3 → VNQ_ret\n",
      "⏳ Testing if DGS10 → VNQ_ret\n",
      "⏳ Testing if TB3MS → VNQ_ret\n",
      "⏳ Testing if WTI → VNQ_ret\n",
      "⏳ Testing if VIX → VNQ_ret\n",
      "⏳ Testing if vnq_ma3 → VNQ_ret\n",
      "⏳ Testing if REP → VNQ_ret\n",
      "\n",
      "📊 All Granger Test Results:\n",
      "    Predictor  Lag   p-value  Significant\n",
      "0     VNQ_ret    1  1.000000        False\n",
      "1     VNQ_ret    2  1.000000        False\n",
      "2     VNQ_ret    3  1.000000        False\n",
      "3     VNQ_ret    4  1.000000        False\n",
      "4     VNQ_ret    5  1.000000        False\n",
      "..        ...  ...       ...          ...\n",
      "235       REP    8  0.092853        False\n",
      "236       REP    9  0.179573        False\n",
      "237       REP   10  0.380401        False\n",
      "238       REP   11  0.553302        False\n",
      "239       REP   12  0.531356        False\n",
      "\n",
      "[240 rows x 4 columns]\n",
      "\n",
      "✅ Significant Granger Results (p < 0.05):\n",
      "    Predictor  Lag   p-value  Significant\n",
      "38        DEF    3  0.000812         True\n",
      "113   dUNRATE    6  0.001513         True\n",
      "206       VIX    3  0.001714         True\n",
      "112   dUNRATE    5  0.003441         True\n",
      "218   vnq_ma3    3  0.004032         True\n",
      "101   GDP_YoY    6  0.004733         True\n",
      "102   GDP_YoY    7  0.004733         True\n",
      "115   dUNRATE    8  0.004807         True\n",
      "114   dUNRATE    7  0.006163         True\n",
      "205       VIX    2  0.007868         True\n",
      "194       WTI    3  0.009013         True\n",
      "103   GDP_YoY    8  0.010946         True\n",
      "204       VIX    1  0.011335         True\n",
      "37        DEF    2  0.012939         True\n",
      "104   GDP_YoY    9  0.013451         True\n",
      "219   vnq_ma3    4  0.014949         True\n",
      "116   dUNRATE    9  0.016075         True\n",
      "39        DEF    4  0.017128         True\n",
      "15          R    4  0.017515         True\n",
      "147        dR    4  0.017515         True\n",
      "36        DEF    1  0.020895         True\n",
      "192       WTI    1  0.022254         True\n",
      "26        CPI    3  0.022390         True\n",
      "207       VIX    4  0.023386         True\n",
      "110   dUNRATE    3  0.026100         True\n",
      "106   GDP_YoY   11  0.026476         True\n",
      "117   dUNRATE   10  0.027167         True\n",
      "118   dUNRATE   11  0.027642         True\n",
      "119   dUNRATE   12  0.028998         True\n",
      "100   GDP_YoY    5  0.033861         True\n",
      "27        CPI    4  0.034568         True\n",
      "105   GDP_YoY   10  0.034811         True\n",
      "33        CPI   10  0.039851         True\n",
      "142       dM2   11  0.040402         True\n",
      "73     AFFORD    2  0.041685         True\n"
     ]
    },
    {
     "name": "stderr",
     "output_type": "stream",
     "text": [
      "/Users/uddashyakumar/py312env/lib/python3.12/site-packages/statsmodels/tsa/stattools.py:1556: FutureWarning: verbose is deprecated since functions should not print results\n",
      "  warnings.warn(\n",
      "/Users/uddashyakumar/py312env/lib/python3.12/site-packages/statsmodels/tsa/stattools.py:1556: FutureWarning: verbose is deprecated since functions should not print results\n",
      "  warnings.warn(\n",
      "/Users/uddashyakumar/py312env/lib/python3.12/site-packages/statsmodels/tsa/stattools.py:1556: FutureWarning: verbose is deprecated since functions should not print results\n",
      "  warnings.warn(\n",
      "/Users/uddashyakumar/py312env/lib/python3.12/site-packages/statsmodels/tsa/stattools.py:1556: FutureWarning: verbose is deprecated since functions should not print results\n",
      "  warnings.warn(\n",
      "/Users/uddashyakumar/py312env/lib/python3.12/site-packages/statsmodels/tsa/stattools.py:1556: FutureWarning: verbose is deprecated since functions should not print results\n",
      "  warnings.warn(\n",
      "/Users/uddashyakumar/py312env/lib/python3.12/site-packages/statsmodels/tsa/stattools.py:1556: FutureWarning: verbose is deprecated since functions should not print results\n",
      "  warnings.warn(\n",
      "/Users/uddashyakumar/py312env/lib/python3.12/site-packages/statsmodels/tsa/stattools.py:1556: FutureWarning: verbose is deprecated since functions should not print results\n",
      "  warnings.warn(\n",
      "/Users/uddashyakumar/py312env/lib/python3.12/site-packages/statsmodels/tsa/stattools.py:1556: FutureWarning: verbose is deprecated since functions should not print results\n",
      "  warnings.warn(\n",
      "/Users/uddashyakumar/py312env/lib/python3.12/site-packages/statsmodels/tsa/stattools.py:1556: FutureWarning: verbose is deprecated since functions should not print results\n",
      "  warnings.warn(\n",
      "/Users/uddashyakumar/py312env/lib/python3.12/site-packages/statsmodels/tsa/stattools.py:1556: FutureWarning: verbose is deprecated since functions should not print results\n",
      "  warnings.warn(\n",
      "/Users/uddashyakumar/py312env/lib/python3.12/site-packages/statsmodels/tsa/stattools.py:1556: FutureWarning: verbose is deprecated since functions should not print results\n",
      "  warnings.warn(\n",
      "/Users/uddashyakumar/py312env/lib/python3.12/site-packages/statsmodels/tsa/stattools.py:1556: FutureWarning: verbose is deprecated since functions should not print results\n",
      "  warnings.warn(\n",
      "/Users/uddashyakumar/py312env/lib/python3.12/site-packages/statsmodels/tsa/stattools.py:1556: FutureWarning: verbose is deprecated since functions should not print results\n",
      "  warnings.warn(\n",
      "/Users/uddashyakumar/py312env/lib/python3.12/site-packages/statsmodels/tsa/stattools.py:1556: FutureWarning: verbose is deprecated since functions should not print results\n",
      "  warnings.warn(\n",
      "/Users/uddashyakumar/py312env/lib/python3.12/site-packages/statsmodels/tsa/stattools.py:1556: FutureWarning: verbose is deprecated since functions should not print results\n",
      "  warnings.warn(\n",
      "/Users/uddashyakumar/py312env/lib/python3.12/site-packages/statsmodels/tsa/stattools.py:1556: FutureWarning: verbose is deprecated since functions should not print results\n",
      "  warnings.warn(\n"
     ]
    }
   ],
   "source": [
    "def pairwise_granger_all(df, target='VNQ_ret', maxlag=12, alpha=0.05):\n",
    "    \"\"\"\n",
    "    Run pairwise Granger causality tests: all predictors → target\n",
    "    - df: DataFrame with target + predictors\n",
    "    - target: dependent variable (string)\n",
    "    - maxlag: max lags to test\n",
    "    - alpha: significance level for filtering\n",
    "    \"\"\"\n",
    "    predictors = [col for col in df.columns]\n",
    "    results = []\n",
    "\n",
    "    for predictor in predictors:\n",
    "        print(f\"⏳ Testing if {predictor} → {target}\")\n",
    "        try:\n",
    "            test_data = df[[target, predictor]].dropna()\n",
    "            granger = grangercausalitytests(test_data, maxlag=maxlag, verbose=False)\n",
    "\n",
    "            for lag, res in granger.items():\n",
    "                f_pval = res[0]['ssr_ftest'][1]  # F-test p-value\n",
    "                results.append({\n",
    "                    'Predictor': predictor,\n",
    "                    'Lag': lag,\n",
    "                    'p-value': f_pval,\n",
    "                    'Significant': f_pval < alpha\n",
    "                })\n",
    "        except Exception as e:\n",
    "            print(f\"⚠️ Skipping {predictor}: {e}\")\n",
    "\n",
    "    # Make summary DataFrame\n",
    "    summary_df = pd.DataFrame(results)\n",
    "    sig_df = summary_df[summary_df['Significant']].sort_values('p-value')\n",
    "    return summary_df, sig_df\n",
    "\n",
    "# Combine VNQ returns + macro factors\n",
    "returns = vnq_prices.pct_change().dropna().rename('VNQ_ret')\n",
    "data = pd.concat([returns.resample('QE').last().dropna(), factors.resample('QE').last().dropna()], axis=1).dropna()\n",
    "\n",
    "# Run the pairwise Granger tests\n",
    "all_results, sig_results = pairwise_granger_all(data, target='VNQ_ret', maxlag=12, alpha=0.05)\n",
    "\n",
    "# Display results\n",
    "print(\"\\n📊 All Granger Test Results:\")\n",
    "print(all_results)\n",
    "\n",
    "print(\"\\n✅ Significant Granger Results (p < 0.05):\")\n",
    "print(sig_results)"
   ]
  },
  {
   "cell_type": "code",
   "execution_count": 114,
   "id": "fe4cdef9",
   "metadata": {},
   "outputs": [
    {
     "name": "stdout",
     "output_type": "stream",
     "text": [
      "\n",
      "📈 Significant predictors: ['DEF' 'dUNRATE' 'VIX' 'vnq_ma3' 'GDP_YoY' 'WTI' 'R' 'dR' 'CPI' 'dM2'\n",
      " 'AFFORD']\n"
     ]
    }
   ],
   "source": [
    "cols=sig_results['Predictor'].unique()\n",
    "print(\"\\n📈 Significant predictors:\", cols)"
   ]
  },
  {
   "cell_type": "code",
   "execution_count": 115,
   "id": "59400b3a",
   "metadata": {},
   "outputs": [
    {
     "name": "stdout",
     "output_type": "stream",
     "text": [
      "{'AFFORD': [2], 'CPI': [3, 4, 10], 'DEF': [3, 2, 4, 1], 'GDP_YoY': [6, 7, 8, 9, 11, 5, 10], 'R': [4], 'VIX': [3, 2, 1, 4], 'WTI': [3, 1], 'dM2': [11], 'dR': [4], 'dUNRATE': [6, 5, 8, 7, 9, 3, 10, 11, 12], 'vnq_ma3': [3, 4]}\n"
     ]
    }
   ],
   "source": [
    "# Create a dictionary mapping each predictor to a list of its significant lags\n",
    "predictor_lags = sig_results.groupby('Predictor')['Lag'].apply(list).to_dict()\n",
    "print(predictor_lags)"
   ]
  },
  {
   "cell_type": "code",
   "execution_count": 116,
   "id": "cc3f4f8a",
   "metadata": {},
   "outputs": [
    {
     "name": "stdout",
     "output_type": "stream",
     "text": [
      "Return rows : 57\n",
      "Lagged factors rows : 57\n"
     ]
    }
   ],
   "source": [
    "lagged_factors = {}\n",
    "for predictor in predictor_lags.keys():\n",
    "    lags = predictor_lags[predictor]\n",
    "    for lag in lags:\n",
    "        lagged_factors[f'{predictor}_lag{lag}'] = factors[predictor].shift(lag)\n",
    "\n",
    "lagged_factors = pd.DataFrame(lagged_factors).dropna()\n",
    "# factors_combined = pd.concat([lagged_factors, factors['R']], axis=1).dropna()\n",
    "ret = vnq_prices.pct_change().dropna().reindex(lagged_factors.index)\n",
    "print(\"Return rows :\", len(ret))\n",
    "print(\"Lagged factors rows :\", len(lagged_factors))"
   ]
  },
  {
   "cell_type": "markdown",
   "id": "3be3d97e",
   "metadata": {},
   "source": [
    "## OLS"
   ]
  },
  {
   "cell_type": "code",
   "execution_count": 117,
   "id": "44c049d3",
   "metadata": {},
   "outputs": [],
   "source": [
    "def expanding_ols_forecast(X, y, window=40):\n",
    "    \"\"\"Return Series of one-step-ahead forecasts.\"\"\"\n",
    "    pred = pd.Series(index=y.index, dtype=float)\n",
    "    for i in range(window, len(y)):\n",
    "        mod = OLS(y.iloc[:i], X.iloc[:i]).fit()\n",
    "        pred.iloc[i] = mod.predict(X.iloc[i])\n",
    "    return pred\n",
    "\n",
    "pred = expanding_ols_forecast(add_constant(lagged_factors),ret, window=40)\n",
    "\n"
   ]
  },
  {
   "cell_type": "code",
   "execution_count": 118,
   "id": "7807cff2",
   "metadata": {},
   "outputs": [
    {
     "name": "stdout",
     "output_type": "stream",
     "text": [
      "DATE\n",
      "2021-06-30    0.377361\n",
      "2021-09-30    1.291490\n",
      "2021-12-31    0.657957\n",
      "2022-03-31   -0.674073\n",
      "2022-06-30   -0.439794\n",
      "Freq: QE-DEC, dtype: float64\n"
     ]
    }
   ],
   "source": [
    "pred.dropna(inplace=True)\n",
    "print(pred.head())"
   ]
  },
  {
   "cell_type": "code",
   "execution_count": 119,
   "id": "45d4e783",
   "metadata": {},
   "outputs": [],
   "source": [
    "def evaluate_preds(pred, y_true):\n",
    "    mask = ~pred.isna()\n",
    "    r = np.corrcoef(pred[mask], y_true[mask])[0,1]\n",
    "    mse = mean_squared_error(y_true[mask], pred[mask])\n",
    "    print(f\"\\n📊 Evaluation:\")\n",
    "    print(f\"Correlation (R): {r:.3f}\")\n",
    "    print(f\"RMSE: {np.sqrt(mse):.5f}\")\n",
    "    return r"
   ]
  },
  {
   "cell_type": "code",
   "execution_count": 120,
   "id": "3920c3eb",
   "metadata": {},
   "outputs": [
    {
     "name": "stdout",
     "output_type": "stream",
     "text": [
      "\n",
      "📊 Evaluation:\n",
      "Correlation (R): 0.332\n",
      "RMSE: 0.46859\n"
     ]
    },
    {
     "data": {
      "image/png": "[encoded data removed]",
      "text/plain": [
       "<Figure size 800x600 with 1 Axes>"
      ]
     },
     "metadata": {},
     "output_type": "display_data"
    }
   ],
   "source": [
    "\n",
    "# Drop NaNs\n",
    "mask = (~pred.isna()) & (~ret.isna())\n",
    "x = pred[mask]\n",
    "y = ret[mask]\n",
    "\n",
    "r=evaluate_preds(x, y)\n",
    "\n",
    "# Linear regression\n",
    "slope, intercept, r_value, p_value, std_err = linregress(x, y)\n",
    "line = slope * x + intercept\n",
    "\n",
    "# Scatter plot\n",
    "plt.figure(figsize=(8, 6))\n",
    "plt.scatter(x, y, alpha=0.7, edgecolor='k', label='Data points')\n",
    "plt.plot(x, line, color='red', linewidth=2, label=f'Regression line\\n$R={r_value:.2f}$, $p={p_value:.3f}$')\n",
    "plt.title('Predicted vs Actual VNQ Returns')\n",
    "plt.xlabel('Predicted Returns')\n",
    "plt.ylabel('Actual Returns')\n",
    "plt.axhline(0, color='grey', linestyle='--', linewidth=1)\n",
    "plt.axvline(0, color='grey', linestyle='--', linewidth=1)\n",
    "plt.legend()\n",
    "plt.grid(True, linestyle='--', alpha=0.5)\n",
    "plt.show()\n"
   ]
  },
  {
   "cell_type": "code",
   "execution_count": 121,
   "id": "fdf616af",
   "metadata": {},
   "outputs": [
    {
     "name": "stdout",
     "output_type": "stream",
     "text": [
      "Predictions for AFFORD_lag2:\n",
      "\n",
      "\n",
      "📊 Evaluation:\n",
      "Correlation (R): 0.245\n",
      "RMSE: 0.09241\n",
      "Predictions for CPI_lag3:\n",
      "\n",
      "\n",
      "📊 Evaluation:\n",
      "Correlation (R): 0.217\n",
      "RMSE: 0.09612\n",
      "Predictions for CPI_lag4:\n",
      "\n",
      "\n",
      "📊 Evaluation:\n",
      "Correlation (R): -0.259\n",
      "RMSE: 0.10829\n",
      "Predictions for CPI_lag10:\n",
      "\n",
      "\n",
      "📊 Evaluation:\n",
      "Correlation (R): -0.252\n",
      "RMSE: 0.10370\n",
      "Predictions for DEF_lag3:\n",
      "\n",
      "\n",
      "📊 Evaluation:\n",
      "Correlation (R): 0.076\n",
      "RMSE: 0.09513\n",
      "Predictions for DEF_lag2:\n",
      "\n",
      "\n",
      "📊 Evaluation:\n",
      "Correlation (R): -0.026\n",
      "RMSE: 0.09581\n",
      "Predictions for DEF_lag4:\n",
      "\n",
      "\n",
      "📊 Evaluation:\n",
      "Correlation (R): -0.391\n",
      "RMSE: 0.10233\n",
      "Predictions for DEF_lag1:\n",
      "\n",
      "\n",
      "📊 Evaluation:\n",
      "Correlation (R): -0.250\n",
      "RMSE: 0.09685\n",
      "Predictions for GDP_YoY_lag6:\n",
      "\n",
      "\n",
      "📊 Evaluation:\n",
      "Correlation (R): -0.381\n",
      "RMSE: 0.11576\n",
      "Predictions for GDP_YoY_lag7:\n",
      "\n",
      "\n",
      "📊 Evaluation:\n",
      "Correlation (R): -0.008\n",
      "RMSE: 0.10697\n",
      "Predictions for GDP_YoY_lag8:\n",
      "\n",
      "\n",
      "📊 Evaluation:\n",
      "Correlation (R): 0.257\n",
      "RMSE: 0.09841\n",
      "Predictions for GDP_YoY_lag9:\n",
      "\n",
      "\n",
      "📊 Evaluation:\n",
      "Correlation (R): -0.089\n",
      "RMSE: 0.10621\n",
      "Predictions for GDP_YoY_lag11:\n",
      "\n",
      "\n",
      "📊 Evaluation:\n",
      "Correlation (R): 0.090\n",
      "RMSE: 0.10226\n",
      "Predictions for GDP_YoY_lag5:\n",
      "\n",
      "\n",
      "📊 Evaluation:\n",
      "Correlation (R): 0.155\n",
      "RMSE: 0.09410\n",
      "Predictions for GDP_YoY_lag10:\n",
      "\n",
      "\n",
      "📊 Evaluation:\n",
      "Correlation (R): -0.215\n",
      "RMSE: 0.09840\n",
      "Predictions for R_lag4:\n",
      "\n",
      "\n",
      "📊 Evaluation:\n",
      "Correlation (R): -0.020\n",
      "RMSE: 0.10997\n",
      "Predictions for VIX_lag3:\n",
      "\n",
      "\n",
      "📊 Evaluation:\n",
      "Correlation (R): -0.108\n",
      "RMSE: 0.09694\n",
      "Predictions for VIX_lag2:\n",
      "\n",
      "\n",
      "📊 Evaluation:\n",
      "Correlation (R): 0.070\n",
      "RMSE: 0.09644\n",
      "Predictions for VIX_lag1:\n",
      "\n",
      "\n",
      "📊 Evaluation:\n",
      "Correlation (R): -0.260\n",
      "RMSE: 0.09792\n",
      "Predictions for VIX_lag4:\n",
      "\n",
      "\n",
      "📊 Evaluation:\n",
      "Correlation (R): -0.418\n",
      "RMSE: 0.09933\n",
      "Predictions for WTI_lag3:\n",
      "\n",
      "\n",
      "📊 Evaluation:\n",
      "Correlation (R): -0.404\n",
      "RMSE: 0.09662\n",
      "Predictions for WTI_lag1:\n",
      "\n",
      "\n",
      "📊 Evaluation:\n",
      "Correlation (R): -0.484\n",
      "RMSE: 0.09696\n",
      "Predictions for dM2_lag11:\n",
      "\n",
      "\n",
      "📊 Evaluation:\n",
      "Correlation (R): -0.457\n",
      "RMSE: 0.09697\n",
      "Predictions for dR_lag4:\n",
      "\n",
      "\n",
      "📊 Evaluation:\n",
      "Correlation (R): -0.020\n",
      "RMSE: 0.10997\n",
      "Predictions for dUNRATE_lag6:\n",
      "\n",
      "\n",
      "📊 Evaluation:\n",
      "Correlation (R): -0.398\n",
      "RMSE: 0.11397\n",
      "Predictions for dUNRATE_lag5:\n",
      "\n",
      "\n",
      "📊 Evaluation:\n",
      "Correlation (R): 0.421\n",
      "RMSE: 0.08984\n",
      "Predictions for dUNRATE_lag8:\n",
      "\n",
      "\n",
      "📊 Evaluation:\n",
      "Correlation (R): 0.370\n",
      "RMSE: 0.10051\n",
      "Predictions for dUNRATE_lag7:\n",
      "\n",
      "\n",
      "📊 Evaluation:\n",
      "Correlation (R): 0.232\n",
      "RMSE: 0.09622\n",
      "Predictions for dUNRATE_lag9:\n",
      "\n",
      "\n",
      "📊 Evaluation:\n",
      "Correlation (R): -0.078\n",
      "RMSE: 0.10973\n",
      "Predictions for dUNRATE_lag3:\n",
      "\n",
      "\n",
      "📊 Evaluation:\n",
      "Correlation (R): -0.057\n",
      "RMSE: 0.09627\n",
      "Predictions for dUNRATE_lag10:\n",
      "\n",
      "\n",
      "📊 Evaluation:\n",
      "Correlation (R): -0.085\n",
      "RMSE: 0.09819\n",
      "Predictions for dUNRATE_lag11:\n",
      "\n",
      "\n",
      "📊 Evaluation:\n",
      "Correlation (R): 0.022\n",
      "RMSE: 0.11880\n",
      "Predictions for dUNRATE_lag12:\n",
      "\n",
      "\n",
      "📊 Evaluation:\n",
      "Correlation (R): -0.219\n",
      "RMSE: 0.10704\n",
      "Predictions for vnq_ma3_lag3:\n",
      "\n",
      "\n",
      "📊 Evaluation:\n",
      "Correlation (R): -0.045\n",
      "RMSE: 0.09699\n",
      "Predictions for vnq_ma3_lag4:\n",
      "\n",
      "\n",
      "📊 Evaluation:\n",
      "Correlation (R): -0.204\n",
      "RMSE: 0.09862\n"
     ]
    }
   ],
   "source": [
    "corr={}\n",
    "\n",
    "for predictor in lagged_factors.columns:\n",
    "    pred = expanding_ols_forecast(add_constant(lagged_factors[predictor]),ret, window=40)\n",
    "    print(f\"Predictions for {predictor}:\\n\")\n",
    "    r=evaluate_preds(pred, ret)\n",
    "    if abs(r) > 0.28:\n",
    "        corr[predictor] = r\n",
    "    # print(\"\\n\" + \"=\"*50 + \"\\n\")\n",
    "\n"
   ]
  },
  {
   "cell_type": "code",
   "execution_count": 122,
   "id": "9cc558c3",
   "metadata": {},
   "outputs": [
    {
     "name": "stdout",
     "output_type": "stream",
     "text": [
      "Significant predictors with correlation > 0.3:\n",
      "DEF_lag4: R = -0.391\n",
      "GDP_YoY_lag6: R = -0.381\n",
      "VIX_lag4: R = -0.418\n",
      "WTI_lag3: R = -0.404\n",
      "WTI_lag1: R = -0.484\n",
      "dM2_lag11: R = -0.457\n",
      "dUNRATE_lag6: R = -0.398\n",
      "dUNRATE_lag5: R = 0.421\n",
      "dUNRATE_lag8: R = 0.370\n"
     ]
    }
   ],
   "source": [
    "print(\"Significant predictors with correlation > 0.3:\")\n",
    "for key in corr.keys():\n",
    "    print(f\"{key}: R = {corr[key]:.3f}\") "
   ]
  },
  {
   "cell_type": "code",
   "execution_count": 123,
   "id": "c14912b5",
   "metadata": {},
   "outputs": [],
   "source": [
    "# Align indices of predictors and target (returns)\n",
    "X = add_constant(lagged_factors[list(corr.keys())])\n",
    "y = ret.reindex(X.index)\n",
    "mask = ~y.isna()\n",
    "pred_filtered = expanding_ols_forecast(X[mask], y[mask], window=40)"
   ]
  },
  {
   "cell_type": "code",
   "execution_count": 124,
   "id": "55bcc41f",
   "metadata": {},
   "outputs": [
    {
     "name": "stdout",
     "output_type": "stream",
     "text": [
      "\n",
      "📊 Evaluation:\n",
      "Correlation (R): 0.458\n",
      "RMSE: 0.14261\n"
     ]
    }
   ],
   "source": [
    "r=evaluate_preds(pred_filtered, ret)"
   ]
  },
  {
   "cell_type": "markdown",
   "id": "d1425624",
   "metadata": {},
   "source": [
    "## Lasso"
   ]
  },
  {
   "cell_type": "code",
   "execution_count": 125,
   "id": "b2367ec6",
   "metadata": {},
   "outputs": [
    {
     "name": "stdout",
     "output_type": "stream",
     "text": [
      "α chosen on first window: 10.0000\n",
      "\n",
      "📊 Evaluation:\n",
      "Correlation (R): 0.551\n",
      "RMSE: 0.09540\n"
     ]
    }
   ],
   "source": [
    "# ====================================================\n",
    "# 2. Expanding-window ridge forecast\n",
    "# ====================================================\n",
    "\n",
    "def expanding_ridge_forecast_scaled(X, y, window=40,\n",
    "                                    alphas=np.logspace(-3, 2, 30)):\n",
    "    pred = pd.Series(index=y.index, dtype=float)\n",
    "    for i in range(window, len(y)):\n",
    "        X_train, y_train = X.iloc[:i], y.iloc[:i]\n",
    "\n",
    "        scaler = StandardScaler().fit(X_train)\n",
    "        X_train_z = scaler.transform(X_train)\n",
    "\n",
    "        ridge = RidgeCV(alphas=np.logspace(-4,1,30), cv=5)\n",
    "        ridge.fit(X_train_z, y_train)\n",
    "\n",
    "        if i == window:\n",
    "            print(f\"α chosen on first window: {ridge.alpha_:.4f}\")\n",
    "\n",
    "        pred.iloc[i] = ridge.predict(scaler.transform(X.iloc[[i]]))[0]\n",
    "    return pred\n",
    "\n",
    "\n",
    "ridge_pred = expanding_ridge_forecast_scaled(lagged_factors[list(corr.keys())][mask], y[mask],window=42)\n",
    "r = evaluate_preds(ridge_pred, ret)"
   ]
  },
  {
   "cell_type": "code",
   "execution_count": null,
   "id": "f378dad1",
   "metadata": {},
   "outputs": [
    {
     "data": {
      "image/png": "[encoded data removed]",
      "text/plain": [
       "<Figure size 1000x500 with 1 Axes>"
      ]
     },
     "metadata": {},
     "output_type": "display_data"
    },
    {
     "data": {
      "image/png": "[encoded data removed]",
      "text/plain": [
       "<Figure size 1200x400 with 1 Axes>"
      ]
     },
     "metadata": {},
     "output_type": "display_data"
    }
   ],
   "source": [
    "# ====================================================\n",
    "# 4. Plot predicted vs actual\n",
    "# ====================================================\n",
    "plt.figure(figsize=(10, 5))\n",
    "plt.scatter(y, ridge_pred, alpha=0.5, label='Predicted vs Actual')\n",
    "plt.plot(y, y, color='red', linestyle='--', label='Ideal Fit')\n",
    "plt.xlabel('Actual VNQ Returns')\n",
    "plt.ylabel('Predicted VNQ Returns')\n",
    "plt.title('ridge Regression: Predicted vs Actual Returns')\n",
    "plt.legend()\n",
    "plt.show()\n",
    "\n",
    "\n",
    "# Plot signals over time\n",
    "plt.figure(figsize=(12, 4))\n",
    "plt.plot(ridge_pred.index, y, label='Actual Returns', alpha=0.5)\n",
    "plt.plot(ridge_pred.index, ridge_pred, label='Predicted Returns', alpha=0.8)\n",
    "plt.legend()\n",
    "plt.title('Predicted Returns')\n",
    "plt.show()\n"
   ]
  },
  {
   "cell_type": "code",
   "execution_count": null,
   "id": "2608a53c",
   "metadata": {},
   "outputs": [
    {
     "name": "stdout",
     "output_type": "stream",
     "text": [
      "\n",
      "σ-threshold  0.50\n"
     ]
    },
    {
     "data": {
      "text/plain": [
       "CAGR_strat    0.0142\n",
       "CAGR_VNQ      0.0039\n",
       "Sharpe_s      0.2014\n",
       "Sharpe_VNQ    0.1147\n",
       "MaxDD_s       0.0647\n",
       "Trades        8.0000\n",
       "dtype: float64"
      ]
     },
     "metadata": {},
     "output_type": "display_data"
    },
    {
     "name": "stdout",
     "output_type": "stream",
     "text": [
      "\n",
      "σ-threshold  0.60\n"
     ]
    },
    {
     "data": {
      "text/plain": [
       "CAGR_strat    0.0097\n",
       "CAGR_VNQ      0.0039\n",
       "Sharpe_s      0.1508\n",
       "Sharpe_VNQ    0.1147\n",
       "MaxDD_s       0.0647\n",
       "Trades        6.0000\n",
       "dtype: float64"
      ]
     },
     "metadata": {},
     "output_type": "display_data"
    },
    {
     "name": "stdout",
     "output_type": "stream",
     "text": [
      "\n",
      "σ-threshold  0.75\n"
     ]
    },
    {
     "data": {
      "text/plain": [
       "CAGR_strat    0.0097\n",
       "CAGR_VNQ      0.0039\n",
       "Sharpe_s      0.1508\n",
       "Sharpe_VNQ    0.1147\n",
       "MaxDD_s       0.0647\n",
       "Trades        6.0000\n",
       "dtype: float64"
      ]
     },
     "metadata": {},
     "output_type": "display_data"
    },
    {
     "name": "stdout",
     "output_type": "stream",
     "text": [
      "\n",
      "σ-threshold  1.00\n"
     ]
    },
    {
     "data": {
      "text/plain": [
       "CAGR_strat    0.0097\n",
       "CAGR_VNQ      0.0039\n",
       "Sharpe_s      0.1508\n",
       "Sharpe_VNQ    0.1147\n",
       "MaxDD_s       0.0647\n",
       "Trades        6.0000\n",
       "dtype: float64"
      ]
     },
     "metadata": {},
     "output_type": "display_data"
    },
    {
     "name": "stdout",
     "output_type": "stream",
     "text": [
      "\n",
      "σ-threshold  1.25\n"
     ]
    },
    {
     "data": {
      "text/plain": [
       "CAGR_strat   -0.0281\n",
       "CAGR_VNQ      0.0039\n",
       "Sharpe_s     -0.7721\n",
       "Sharpe_VNQ    0.1147\n",
       "MaxDD_s       0.1129\n",
       "Trades        4.0000\n",
       "dtype: float64"
      ]
     },
     "metadata": {},
     "output_type": "display_data"
    }
   ],
   "source": [
    "\n",
    "# ------------------------------------------------------------\n",
    "# 0.   prerequisites\n",
    "# ------------------------------------------------------------\n",
    "mask      = ridge_pred.notna()           # quarterly VNQ returns\n",
    "resid_std = ridge_pred[mask].std()           # fixed σ of residuals\n",
    "\n",
    "def sharpe(q_ret, rf=0):\n",
    "    \"\"\"Annualised Sharpe on quarterly returns.\"\"\"\n",
    "    exc = q_ret - rf/4                       # rf optional\n",
    "    return np.sqrt(4) * exc.mean() / exc.std(ddof=0)\n",
    "\n",
    "def run_once(thr):\n",
    "    \"\"\"Build signal & perf stats for **one** sigma-threshold.\"\"\"\n",
    "    sig = ridge_pred.map(\n",
    "        lambda x: 1  if x >  thr*resid_std\n",
    "               else -1 if x < -thr*resid_std\n",
    "               else  0\n",
    "    )\n",
    "    strat = (sig.shift(1) * ret).loc[mask]   # next-bar entry\n",
    "    \n",
    "    out = {\n",
    "        \"CAGR_strat\" : (1+strat).prod()**(4/len(strat))-1,\n",
    "        \"CAGR_VNQ\"   : (1+ret.loc[mask]).prod()**(4/len(strat))-1,\n",
    "        \"Sharpe_s\"   : sharpe(strat),\n",
    "        \"Sharpe_VNQ\" : sharpe(ret.loc[mask]),\n",
    "        \"MaxDD_s\"    : ((strat+1).cumprod().cummax() /\n",
    "                        (strat+1).cumprod() - 1).max(),\n",
    "        \"Trades\"     : int(sig.diff().abs().sum())\n",
    "    }\n",
    "    return pd.Series(out)\n",
    "\n",
    "# ------------------------------------------------------------\n",
    "# 1.   grid-search over σ thresholds\n",
    "# ------------------------------------------------------------\n",
    "for thr in [0.50, 0.60, 0.75, 1.00, 1.25]:\n",
    "    res = run_once(thr).round(4)\n",
    "    print(f\"\\nσ-threshold  {thr:.2f}\")\n",
    "    display(res)\n"
   ]
  }
 ],
 "metadata": {
  "kernelspec": {
   "display_name": "py312env",
   "language": "python",
   "name": "python3"
  },
  "language_info": {
   "codemirror_mode": {
    "name": "ipython",
    "version": 3
   },
   "file_extension": ".py",
   "mimetype": "text/x-python",
   "name": "python",
   "nbconvert_exporter": "python",
   "pygments_lexer": "ipython3",
   "version": "3.12.11"
  }
 },
 "nbformat": 4,
 "nbformat_minor": 5
}
